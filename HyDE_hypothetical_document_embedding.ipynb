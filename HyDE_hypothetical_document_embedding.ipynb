{
 "cells": [
  {
   "cell_type": "code",
   "execution_count": 1,
   "id": "55110596-0d49-4229-945e-1fa39a76f166",
   "metadata": {},
   "outputs": [
    {
     "data": {
      "text/plain": [
       "True"
      ]
     },
     "execution_count": 1,
     "metadata": {},
     "output_type": "execute_result"
    }
   ],
   "source": [
    "import os\n",
    "import sys\n",
    "import argparse\n",
    "from dotenv import load_dotenv\n",
    "load_dotenv()"
   ]
  },
  {
   "cell_type": "code",
   "execution_count": 2,
   "id": "9de569d9-8cf5-4799-825d-115fe6f90d2a",
   "metadata": {},
   "outputs": [],
   "source": [
    "sys.path.append(os.path.abspath(os.path.join(os.getcwd(), '..')))"
   ]
  },
  {
   "cell_type": "code",
   "execution_count": 3,
   "id": "d1ee0cf7-c907-44f5-a266-01cdf80b9ecd",
   "metadata": {},
   "outputs": [
    {
     "name": "stderr",
     "output_type": "stream",
     "text": [
      "C:\\Users\\Revathi\\AppData\\Local\\Temp\\ipykernel_5524\\1040137016.py:1: LangChainDeprecationWarning: As of langchain-core 0.3.0, LangChain uses pydantic v2 internally. The langchain_core.pydantic_v1 module was a compatibility shim for pydantic v1, and should no longer be used. Please update the code to import from Pydantic directly.\n",
      "\n",
      "For example, replace imports like: `from langchain_core.pydantic_v1 import BaseModel`\n",
      "with: `from pydantic import BaseModel`\n",
      "or the v1 compatibility namespace if you are working in a code base that has not been fully upgraded to pydantic 2 yet. \tfrom pydantic.v1 import BaseModel\n",
      "\n",
      "  from helper_functions import *\n"
     ]
    }
   ],
   "source": [
    "from helper_functions import *\n",
    "from evaluation.rag_evaluation import *"
   ]
  },
  {
   "cell_type": "code",
   "execution_count": 4,
   "id": "72cf0ffa-2471-4d5c-8661-502615c4871a",
   "metadata": {},
   "outputs": [],
   "source": [
    "os.environ[\"OPENAI_API_KEY\"] = os.getenv('OPENAI_API_KEY')"
   ]
  },
  {
   "cell_type": "code",
   "execution_count": 5,
   "id": "0e605356-8662-4715-a291-bcf0562ebabd",
   "metadata": {},
   "outputs": [],
   "source": [
    "class HyDERetriever:\n",
    "    def __init__(self, files_path, chunk_size=500, chunk_overlap=100):\n",
    "        self.llm = ChatOpenAI(temperature=0, model_name=\"gpt-4o-mini\", max_tokens=4000)\n",
    "        self.embeddings = OpenAIEmbeddings()\n",
    "        self.chunk_size = chunk_size\n",
    "        self.chunk_overlap = chunk_overlap\n",
    "        self.vectorstore = encode_pdf(files_path, chunk_size=self.chunk_size, chunk_overlap=self.chunk_overlap)\n",
    "\n",
    "        self.hyde_prompt = PromptTemplate(\n",
    "            input_variables=[\"query\", \"chunk_size\"],\n",
    "            template=\"\"\"Given the question '{query}', generate a hypothetical document that directly answers this question. The document should be detailed and in-depth.\n",
    "            The document size has to be exactly {chunk_size} characters.\"\"\",\n",
    "        )\n",
    "        self.hyde_chain = self.hyde_prompt | self.llm\n",
    "\n",
    "    def generate_hypothetical_document(self, query):\n",
    "        input_variables = {\"query\": query, \"chunk_size\": self.chunk_size}\n",
    "        return self.hyde_chain.invoke(input_variables).content\n",
    "\n",
    "    def retrieve(self, query, k=3):\n",
    "        hypothetical_doc = self.generate_hypothetical_document(query)\n",
    "        similar_docs = self.vectorstore.similarity_search(hypothetical_doc, k=k)\n",
    "        return similar_docs, hypothetical_doc\n"
   ]
  },
  {
   "cell_type": "code",
   "execution_count": 6,
   "id": "7af0d120-57cf-4426-9df5-a141320af4b5",
   "metadata": {},
   "outputs": [],
   "source": [
    "class ClimateChangeRAG:\n",
    "    def __init__(self, path, query):\n",
    "        self.retriever = HyDERetriever(path)\n",
    "        self.query = query\n",
    "\n",
    "    def run(self):\n",
    "        # Retrieve results and hypothetical document\n",
    "        results, hypothetical_doc = self.retriever.retrieve(self.query)\n",
    "\n",
    "        # Plot the hypothetical document and the retrieved documents\n",
    "        docs_content = [doc.page_content for doc in results]\n",
    "\n",
    "        print(\"Hypothetical document:\\n\")\n",
    "        print(text_wrap(hypothetical_doc) + \"\\n\")\n",
    "        show_context(docs_content)"
   ]
  },
  {
   "cell_type": "code",
   "execution_count": 9,
   "id": "cbf45f4a-0301-4e4d-bf2b-04eb28f29935",
   "metadata": {},
   "outputs": [],
   "source": [
    "def run_and_return_hyde_results(rag_obj):\n",
    "    \"\"\"\n",
    "    Runs HyDE RAG retrieval and returns:\n",
    "    - hypothetical document\n",
    "    - retrieved chunk texts\n",
    "    \"\"\"\n",
    "    print(f\"\\n Query: {rag_obj.query}\")\n",
    "    \n",
    "    results, hypothetical_doc = rag_obj.retriever.retrieve(rag_obj.query)\n",
    "    docs_content = [doc.page_content for doc in results]\n",
    "\n",
    "    print(\"\\n Hypothetical Document:\")\n",
    "    print(text_wrap(hypothetical_doc))\n",
    "\n",
    "    print(\"\\n Retrieved Chunks:\")\n",
    "    for i, chunk in enumerate(docs_content):\n",
    "        print(f\"\\n--- Chunk {i+1} ---\\n{text_wrap(chunk)}\")\n",
    "\n",
    "    return hypothetical_doc, docs_content\n"
   ]
  },
  {
   "cell_type": "code",
   "execution_count": 10,
   "id": "c1529a73-fd5f-4b77-9599-b8893f382e5b",
   "metadata": {},
   "outputs": [],
   "source": [
    "def evaluate_hyde_retriever(pdf_path, query_answer_pairs, chunk_size=500, chunk_overlap=100, k=3):\n",
    "    \"\"\"\n",
    "    Evaluates HyDE retriever on a list of (query, expected snippet) pairs.\n",
    "\n",
    "    Returns list of hits for each query.\n",
    "    \"\"\"\n",
    "    hits = []\n",
    "\n",
    "    retriever = HyDERetriever(pdf_path, chunk_size=chunk_size, chunk_overlap=chunk_overlap)\n",
    "\n",
    "    print(f\"\\n Running evaluation on {len(query_answer_pairs)} queries...\\n\")\n",
    "\n",
    "    for i, (query, expected_snippet) in enumerate(query_answer_pairs, 1):\n",
    "        print(f\"\\n Query {i}: {query}\")\n",
    "        hypothetical_doc = retriever.generate_hypothetical_document(query)\n",
    "        results = retriever.vectorstore.similarity_search(hypothetical_doc, k=k)\n",
    "        retrieved_text = \" \".join([r.page_content for r in results]).lower()\n",
    "\n",
    "        match = expected_snippet.lower() in retrieved_text\n",
    "        hits.append(match)\n",
    "\n",
    "        print(f\" Match found: {match}\")\n",
    "        print(f\"Expected snippet: \\\"{expected_snippet}\\\"\\n\")\n",
    "\n",
    "    accuracy = sum(hits) / len(hits)\n",
    "    print(f\"\\n Final Accuracy: {accuracy * 100:.2f}%\")\n",
    "\n",
    "    return hits"
   ]
  },
  {
   "cell_type": "code",
   "execution_count": 13,
   "id": "970e03ab-e192-4c47-b4d0-1876b6fb19dc",
   "metadata": {},
   "outputs": [
    {
     "name": "stdout",
     "output_type": "stream",
     "text": [
      "\n",
      " Query: What is the main cause of climate change?\n",
      "\n",
      " Hypothetical Document:\n",
      "**The Main Cause of Climate Change**  Climate change primarily results from human activities, particularly the burning\n",
      "of fossil fuels such as coal, oil, and natural gas. This process releases significant amounts of carbon dioxide (CO2)\n",
      "and other greenhouse gases into the atmosphere, enhancing the greenhouse effect. Deforestation further exacerbates the\n",
      "issue by reducing the number of trees that can absorb CO2. Additionally, industrial processes, agriculture, and waste\n",
      "management contribute to emissions. Collectively, these factors disrupt the Earth's climate systems, leading to global\n",
      "warming and associated environmental impacts.\n",
      "\n",
      " Retrieved Chunks:\n",
      "\n",
      "--- Chunk 1 ---\n",
      "predict future trends. The evidence overwhelmingly shows that recent changes are primarily  driven by human activities,\n",
      "particularly the emission of greenhouse gases.  Chapter 2: Causes of Climate Change  Greenhouse Gases  The primary cause\n",
      "of recent climate change is the increase in greenhouse gases in the  atmosphere. Greenhouse gases, such as carbon\n",
      "dioxide (CO2), methane (CH4), and nitrous  oxide (N2O), trap heat from the sun, creating a \"greenhouse effect.\" This\n",
      "effect is essential\n",
      "\n",
      "--- Chunk 2 ---\n",
      "oxide (N2O), trap heat from the sun, creating a \"greenhouse effect.\" This effect is essential  for life on Earth, as it\n",
      "keeps the planet warm enough to support life. However, human  activities have intensified this natural process, leading\n",
      "to a warmer climate.  Fossil Fuels  Burning fossil fuels for energy releases large amounts of CO2. This includes coal,\n",
      "oil, and  natural gas used for electricity, heating, and transportation. The industrial revolution marked\n",
      "\n",
      "--- Chunk 3 ---\n",
      "Understanding Climate Change  Chapter 1: Introduction to Climate Change  Climate change refers to significant, long-term\n",
      "changes in the global climate. The term  \"global climate\" encompasses the planet's overall weather patterns, including\n",
      "temperature,  precipitation, and wind patterns, over an extended period. Over the past century, human  activities,\n",
      "particularly the burning of fossil fuels and deforestation, have significantly  contributed to climate change.\n",
      "Historical Context\n"
     ]
    }
   ],
   "source": [
    "query = \"What is the main cause of climate change?\"\n",
    "rag_runner = ClimateChangeRAG(r\"C:\\Users\\Revathi\\Documents\\GenAIProjects\\All_RAG_Techniques\\data\\Understanding_Climate_Change.pdf\", query)\n",
    "hypo_doc, retrieved_chunks = run_and_return_hyde_results(rag_runner)"
   ]
  },
  {
   "cell_type": "code",
   "execution_count": 15,
   "id": "f6912305-1e58-4ebe-9c76-d2ee1a280058",
   "metadata": {},
   "outputs": [
    {
     "name": "stdout",
     "output_type": "stream",
     "text": [
      "\n",
      " Running evaluation on 3 queries...\n",
      "\n",
      "\n",
      " Query 1: What is the main cause of climate change?\n",
      " Match found: True\n",
      "Expected snippet: \"burning of fossil fuels\"\n",
      "\n",
      "\n",
      " Query 2: What are the effects of climate change?\n",
      " Match found: False\n",
      "Expected snippet: \"rising sea levels\"\n",
      "\n",
      "\n",
      " Query 3: What are greenhouse gases?\n",
      " Match found: False\n",
      "Expected snippet: \"carbon dioxide and methane\"\n",
      "\n",
      "\n",
      " Final Accuracy: 33.33%\n"
     ]
    }
   ],
   "source": [
    "query_answer_pairs = [\n",
    "    (\"What is the main cause of climate change?\", \"burning of fossil fuels\"),\n",
    "    (\"What are the effects of climate change?\", \"rising sea levels\"),\n",
    "    (\"What are greenhouse gases?\", \"carbon dioxide and methane\"),\n",
    "]\n",
    "\n",
    "hits = evaluate_hyde_retriever(\n",
    "    pdf_path=r\"C:\\Users\\Revathi\\Documents\\GenAIProjects\\All_RAG_Techniques\\data\\Understanding_Climate_Change.pdf\",\n",
    "    query_answer_pairs=query_answer_pairs,\n",
    "    chunk_size=500,\n",
    "    chunk_overlap=100,\n",
    "    k=3\n",
    ")"
   ]
  },
  {
   "cell_type": "code",
   "execution_count": null,
   "id": "d932f1ef-3cbb-4a61-bea5-3681da8c402f",
   "metadata": {},
   "outputs": [],
   "source": []
  }
 ],
 "metadata": {
  "kernelspec": {
   "display_name": "Python 3 (ipykernel)",
   "language": "python",
   "name": "python3"
  },
  "language_info": {
   "codemirror_mode": {
    "name": "ipython",
    "version": 3
   },
   "file_extension": ".py",
   "mimetype": "text/x-python",
   "name": "python",
   "nbconvert_exporter": "python",
   "pygments_lexer": "ipython3",
   "version": "3.12.2"
  }
 },
 "nbformat": 4,
 "nbformat_minor": 5
}
